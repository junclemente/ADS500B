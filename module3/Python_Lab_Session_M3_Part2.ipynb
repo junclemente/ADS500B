{
 "cells": [
  {
   "cell_type": "markdown",
   "metadata": {},
   "source": [
    "## Python Introductory Workshop by University of San Diego (USD)  \n",
    "### Part 2\n",
    "**Leonid Shpaner**  \n",
    "**January 21, 2022**"
   ]
  },
  {
   "cell_type": "markdown",
   "metadata": {},
   "source": [
    "Whereas JupyterLab and Jupyter Notebook are the two most commonly used interactive computing platforms warehoused within the Anaconda distribution, data scientists can also leverage the cloud-based coding environment of Google Colab.\n",
    "\n",
    "[https://colab.research.google.com/?utm_source=scs-index](https://colab.research.google.com/?utm_source=scs-index)\n"
   ]
  },
  {
   "cell_type": "markdown",
   "metadata": {},
   "source": [
    "## JupyterLab Basics\n",
    "[https://jupyterlab.readthedocs.io/en/stable/user/interface.html](https://jupyterlab.readthedocs.io/en/stable/user/interface.html)"
   ]
  },
  {
   "cell_type": "code",
   "execution_count": 1,
   "metadata": {},
   "outputs": [],
   "source": [
    "import pandas as pd\n",
    "import numpy as np\n"
   ]
  },
  {
   "cell_type": "markdown",
   "metadata": {},
   "source": [
    "## Dataframe Examples"
   ]
  },
  {
   "cell_type": "markdown",
   "metadata": {},
   "source": [
    "Unlike R, creating a dataframe in Python involves a little bit more work. For example, we will be using the pandas library to create what is called a pandas dataframe using the `pd.DataFrame()` function and map our variables to a dictionary. Like we previously discussed, a dictionary is used to index key:value pairs and to store these mapped values. Dictionaries are always started (created) using the `{` symbol, followed by the `name` in `quotation marks`, a `:`, and an opening `[`. They are ended using the opposite closing symbols.\n",
    "\n",
    "Let us create a mock dataframe for five fictitious individuals representing different ages, and departments at a research facility."
   ]
  },
  {
   "cell_type": "code",
   "execution_count": 2,
   "metadata": {},
   "outputs": [
    {
     "data": {
      "text/html": [
       "<div>\n",
       "<style scoped>\n",
       "    .dataframe tbody tr th:only-of-type {\n",
       "        vertical-align: middle;\n",
       "    }\n",
       "\n",
       "    .dataframe tbody tr th {\n",
       "        vertical-align: top;\n",
       "    }\n",
       "\n",
       "    .dataframe thead th {\n",
       "        text-align: right;\n",
       "    }\n",
       "</style>\n",
       "<table border=\"1\" class=\"dataframe\">\n",
       "  <thead>\n",
       "    <tr style=\"text-align: right;\">\n",
       "      <th></th>\n",
       "      <th>Name</th>\n",
       "      <th>Age</th>\n",
       "      <th>Experience</th>\n",
       "      <th>Position</th>\n",
       "    </tr>\n",
       "  </thead>\n",
       "  <tbody>\n",
       "    <tr>\n",
       "      <th>0</th>\n",
       "      <td>Jack</td>\n",
       "      <td>47</td>\n",
       "      <td>7</td>\n",
       "      <td>Economist</td>\n",
       "    </tr>\n",
       "    <tr>\n",
       "      <th>1</th>\n",
       "      <td>Kathy</td>\n",
       "      <td>41</td>\n",
       "      <td>5</td>\n",
       "      <td>Director of Operations</td>\n",
       "    </tr>\n",
       "    <tr>\n",
       "      <th>2</th>\n",
       "      <td>Latesha</td>\n",
       "      <td>23</td>\n",
       "      <td>9</td>\n",
       "      <td>Human Resources</td>\n",
       "    </tr>\n",
       "    <tr>\n",
       "      <th>3</th>\n",
       "      <td>Brandon</td>\n",
       "      <td>55</td>\n",
       "      <td>3</td>\n",
       "      <td>Admin. Assistant</td>\n",
       "    </tr>\n",
       "    <tr>\n",
       "      <th>4</th>\n",
       "      <td>Alexa</td>\n",
       "      <td>36</td>\n",
       "      <td>11</td>\n",
       "      <td>Data Scientist</td>\n",
       "    </tr>\n",
       "    <tr>\n",
       "      <th>5</th>\n",
       "      <td>Jonathan</td>\n",
       "      <td>54</td>\n",
       "      <td>6</td>\n",
       "      <td>Admin. Assistant</td>\n",
       "    </tr>\n",
       "    <tr>\n",
       "      <th>6</th>\n",
       "      <td>Joshua</td>\n",
       "      <td>48</td>\n",
       "      <td>8</td>\n",
       "      <td>Account Manager</td>\n",
       "    </tr>\n",
       "    <tr>\n",
       "      <th>7</th>\n",
       "      <td>Emily</td>\n",
       "      <td>23</td>\n",
       "      <td>9</td>\n",
       "      <td>Account Manager</td>\n",
       "    </tr>\n",
       "    <tr>\n",
       "      <th>8</th>\n",
       "      <td>Matthew</td>\n",
       "      <td>22</td>\n",
       "      <td>5</td>\n",
       "      <td>Attorney</td>\n",
       "    </tr>\n",
       "    <tr>\n",
       "      <th>9</th>\n",
       "      <td>Anthony</td>\n",
       "      <td>27</td>\n",
       "      <td>2</td>\n",
       "      <td>Paralegal</td>\n",
       "    </tr>\n",
       "    <tr>\n",
       "      <th>10</th>\n",
       "      <td>Margaret</td>\n",
       "      <td>37</td>\n",
       "      <td>1</td>\n",
       "      <td>Data Analyst</td>\n",
       "    </tr>\n",
       "    <tr>\n",
       "      <th>11</th>\n",
       "      <td>Natalie</td>\n",
       "      <td>43</td>\n",
       "      <td>4</td>\n",
       "      <td>Research Assistant</td>\n",
       "    </tr>\n",
       "  </tbody>\n",
       "</table>\n",
       "</div>"
      ],
      "text/plain": [
       "        Name  Age  Experience                Position\n",
       "0       Jack   47           7               Economist\n",
       "1      Kathy   41           5  Director of Operations\n",
       "2    Latesha   23           9         Human Resources\n",
       "3    Brandon   55           3        Admin. Assistant\n",
       "4      Alexa   36          11          Data Scientist\n",
       "5   Jonathan   54           6        Admin. Assistant\n",
       "6     Joshua   48           8         Account Manager\n",
       "7      Emily   23           9         Account Manager\n",
       "8    Matthew   22           5                Attorney\n",
       "9    Anthony   27           2               Paralegal\n",
       "10  Margaret   37           1            Data Analyst\n",
       "11   Natalie   43           4      Research Assistant"
      ]
     },
     "execution_count": 2,
     "metadata": {},
     "output_type": "execute_result"
    }
   ],
   "source": [
    "df = pd.DataFrame({'Name': ['Jack', 'Kathy', 'Latesha', \n",
    "                    'Brandon', 'Alexa', \n",
    "                    'Jonathan', 'Joshua', 'Emily', \n",
    "                    'Matthew', 'Anthony', 'Margaret', \n",
    "                    'Natalie'],\n",
    "                   \n",
    "                   'Age':[47, 41, 23, 55, 36, 54, 48, \n",
    "                          23, 22, 27, 37, 43],\n",
    "                   \n",
    "                   'Experience':[7,5,9,3,11,6,8,9,5,2,1,4],\n",
    "                   \n",
    "                   'Position': ['Economist', \n",
    "                    'Director of Operations', \n",
    "                    'Human Resources', 'Admin. Assistant', \n",
    "                    'Data Scientist', 'Admin. Assistant', \n",
    "                    'Account Manager', 'Account Manager', \n",
    "                    'Attorney', 'Paralegal','Data Analyst', \n",
    "                    'Research Assistant']})\n",
    "df"
   ]
  },
  {
   "cell_type": "markdown",
   "metadata": {},
   "source": [
    "## Examining the Structure of a Dataframe\n",
    "\n",
    "Let us examine the structure of the dataframe. Once again, recall that whereas in R we would use `str()` to look at the structure of a dataframe, in Python, `str()` refers to string. Thus, we will use the `df.dtypes`, `df.info()`, `len(df)`, and `df.shape` operations/functions, respectively to examine the dataframe's structure."
   ]
  },
  {
   "cell_type": "code",
   "execution_count": 3,
   "metadata": {},
   "outputs": [
    {
     "name": "stdout",
     "output_type": "stream",
     "text": [
      "Name          object\n",
      "Age            int64\n",
      "Experience     int64\n",
      "Position      object\n",
      "dtype: object \n",
      "\n",
      "<class 'pandas.core.frame.DataFrame'>\n",
      "RangeIndex: 12 entries, 0 to 11\n",
      "Data columns (total 4 columns):\n",
      " #   Column      Non-Null Count  Dtype \n",
      "---  ------      --------------  ----- \n",
      " 0   Name        12 non-null     object\n",
      " 1   Age         12 non-null     int64 \n",
      " 2   Experience  12 non-null     int64 \n",
      " 3   Position    12 non-null     object\n",
      "dtypes: int64(2), object(2)\n",
      "memory usage: 512.0+ bytes\n",
      "None \n",
      "\n",
      "Length of Dataframe: 12 \n",
      "\n",
      "Number of Rows: 12\n",
      "Number of Columns: 4\n"
     ]
    }
   ],
   "source": [
    "print(df.dtypes, '\\n') # data types\n",
    "print(df.info(), '\\n') # more info on dataframe\n",
    "\n",
    "# print length of df (rows)\n",
    "print('Length of Dataframe:', len(df),\n",
    "      '\\n')\n",
    "\n",
    "# number of rows of dataframe\n",
    "print('Number of Rows:', df.shape[0])\n",
    "\n",
    "# number of columns of dataframe\n",
    "print('Number of Columns:', df.shape[1])\n"
   ]
  },
  {
   "cell_type": "markdown",
   "metadata": {},
   "source": [
    "## Sorting Data\n",
    "\n",
    "Let us say that now we want to sort this dataframe in order of age (youngest to oldest)."
   ]
  },
  {
   "cell_type": "code",
   "execution_count": 4,
   "metadata": {},
   "outputs": [
    {
     "data": {
      "text/html": [
       "<div>\n",
       "<style scoped>\n",
       "    .dataframe tbody tr th:only-of-type {\n",
       "        vertical-align: middle;\n",
       "    }\n",
       "\n",
       "    .dataframe tbody tr th {\n",
       "        vertical-align: top;\n",
       "    }\n",
       "\n",
       "    .dataframe thead th {\n",
       "        text-align: right;\n",
       "    }\n",
       "</style>\n",
       "<table border=\"1\" class=\"dataframe\">\n",
       "  <thead>\n",
       "    <tr style=\"text-align: right;\">\n",
       "      <th></th>\n",
       "      <th>Name</th>\n",
       "      <th>Age</th>\n",
       "      <th>Experience</th>\n",
       "      <th>Position</th>\n",
       "    </tr>\n",
       "  </thead>\n",
       "  <tbody>\n",
       "    <tr>\n",
       "      <th>8</th>\n",
       "      <td>Matthew</td>\n",
       "      <td>22</td>\n",
       "      <td>5</td>\n",
       "      <td>Attorney</td>\n",
       "    </tr>\n",
       "    <tr>\n",
       "      <th>2</th>\n",
       "      <td>Latesha</td>\n",
       "      <td>23</td>\n",
       "      <td>9</td>\n",
       "      <td>Human Resources</td>\n",
       "    </tr>\n",
       "    <tr>\n",
       "      <th>7</th>\n",
       "      <td>Emily</td>\n",
       "      <td>23</td>\n",
       "      <td>9</td>\n",
       "      <td>Account Manager</td>\n",
       "    </tr>\n",
       "    <tr>\n",
       "      <th>9</th>\n",
       "      <td>Anthony</td>\n",
       "      <td>27</td>\n",
       "      <td>2</td>\n",
       "      <td>Paralegal</td>\n",
       "    </tr>\n",
       "    <tr>\n",
       "      <th>4</th>\n",
       "      <td>Alexa</td>\n",
       "      <td>36</td>\n",
       "      <td>11</td>\n",
       "      <td>Data Scientist</td>\n",
       "    </tr>\n",
       "    <tr>\n",
       "      <th>10</th>\n",
       "      <td>Margaret</td>\n",
       "      <td>37</td>\n",
       "      <td>1</td>\n",
       "      <td>Data Analyst</td>\n",
       "    </tr>\n",
       "    <tr>\n",
       "      <th>1</th>\n",
       "      <td>Kathy</td>\n",
       "      <td>41</td>\n",
       "      <td>5</td>\n",
       "      <td>Director of Operations</td>\n",
       "    </tr>\n",
       "    <tr>\n",
       "      <th>11</th>\n",
       "      <td>Natalie</td>\n",
       "      <td>43</td>\n",
       "      <td>4</td>\n",
       "      <td>Research Assistant</td>\n",
       "    </tr>\n",
       "    <tr>\n",
       "      <th>0</th>\n",
       "      <td>Jack</td>\n",
       "      <td>47</td>\n",
       "      <td>7</td>\n",
       "      <td>Economist</td>\n",
       "    </tr>\n",
       "    <tr>\n",
       "      <th>6</th>\n",
       "      <td>Joshua</td>\n",
       "      <td>48</td>\n",
       "      <td>8</td>\n",
       "      <td>Account Manager</td>\n",
       "    </tr>\n",
       "    <tr>\n",
       "      <th>5</th>\n",
       "      <td>Jonathan</td>\n",
       "      <td>54</td>\n",
       "      <td>6</td>\n",
       "      <td>Admin. Assistant</td>\n",
       "    </tr>\n",
       "    <tr>\n",
       "      <th>3</th>\n",
       "      <td>Brandon</td>\n",
       "      <td>55</td>\n",
       "      <td>3</td>\n",
       "      <td>Admin. Assistant</td>\n",
       "    </tr>\n",
       "  </tbody>\n",
       "</table>\n",
       "</div>"
      ],
      "text/plain": [
       "        Name  Age  Experience                Position\n",
       "8    Matthew   22           5                Attorney\n",
       "2    Latesha   23           9         Human Resources\n",
       "7      Emily   23           9         Account Manager\n",
       "9    Anthony   27           2               Paralegal\n",
       "4      Alexa   36          11          Data Scientist\n",
       "10  Margaret   37           1            Data Analyst\n",
       "1      Kathy   41           5  Director of Operations\n",
       "11   Natalie   43           4      Research Assistant\n",
       "0       Jack   47           7               Economist\n",
       "6     Joshua   48           8         Account Manager\n",
       "5   Jonathan   54           6        Admin. Assistant\n",
       "3    Brandon   55           3        Admin. Assistant"
      ]
     },
     "execution_count": 4,
     "metadata": {},
     "output_type": "execute_result"
    }
   ],
   "source": [
    "# pandas sorts values in ascending order\n",
    "# by default, so there is no need to parse \n",
    "# in ascending=True as a parameter\n",
    "\n",
    "df_age = df.sort_values(by=['Age'])\n",
    "df_age"
   ]
  },
  {
   "cell_type": "markdown",
   "metadata": {},
   "source": [
    "Now, if we want to also sort by experience while keeping age sorted according to previous specifications, we can do the following:"
   ]
  },
  {
   "cell_type": "code",
   "execution_count": 5,
   "metadata": {},
   "outputs": [
    {
     "data": {
      "text/html": [
       "<div>\n",
       "<style scoped>\n",
       "    .dataframe tbody tr th:only-of-type {\n",
       "        vertical-align: middle;\n",
       "    }\n",
       "\n",
       "    .dataframe tbody tr th {\n",
       "        vertical-align: top;\n",
       "    }\n",
       "\n",
       "    .dataframe thead th {\n",
       "        text-align: right;\n",
       "    }\n",
       "</style>\n",
       "<table border=\"1\" class=\"dataframe\">\n",
       "  <thead>\n",
       "    <tr style=\"text-align: right;\">\n",
       "      <th></th>\n",
       "      <th>Name</th>\n",
       "      <th>Age</th>\n",
       "      <th>Experience</th>\n",
       "      <th>Position</th>\n",
       "    </tr>\n",
       "  </thead>\n",
       "  <tbody>\n",
       "    <tr>\n",
       "      <th>8</th>\n",
       "      <td>Matthew</td>\n",
       "      <td>22</td>\n",
       "      <td>5</td>\n",
       "      <td>Attorney</td>\n",
       "    </tr>\n",
       "    <tr>\n",
       "      <th>7</th>\n",
       "      <td>Emily</td>\n",
       "      <td>23</td>\n",
       "      <td>9</td>\n",
       "      <td>Account Manager</td>\n",
       "    </tr>\n",
       "    <tr>\n",
       "      <th>2</th>\n",
       "      <td>Latesha</td>\n",
       "      <td>23</td>\n",
       "      <td>9</td>\n",
       "      <td>Human Resources</td>\n",
       "    </tr>\n",
       "    <tr>\n",
       "      <th>9</th>\n",
       "      <td>Anthony</td>\n",
       "      <td>27</td>\n",
       "      <td>2</td>\n",
       "      <td>Paralegal</td>\n",
       "    </tr>\n",
       "    <tr>\n",
       "      <th>4</th>\n",
       "      <td>Alexa</td>\n",
       "      <td>36</td>\n",
       "      <td>11</td>\n",
       "      <td>Data Scientist</td>\n",
       "    </tr>\n",
       "    <tr>\n",
       "      <th>10</th>\n",
       "      <td>Margaret</td>\n",
       "      <td>37</td>\n",
       "      <td>1</td>\n",
       "      <td>Data Analyst</td>\n",
       "    </tr>\n",
       "    <tr>\n",
       "      <th>1</th>\n",
       "      <td>Kathy</td>\n",
       "      <td>41</td>\n",
       "      <td>5</td>\n",
       "      <td>Director of Operations</td>\n",
       "    </tr>\n",
       "    <tr>\n",
       "      <th>11</th>\n",
       "      <td>Natalie</td>\n",
       "      <td>43</td>\n",
       "      <td>4</td>\n",
       "      <td>Research Assistant</td>\n",
       "    </tr>\n",
       "    <tr>\n",
       "      <th>0</th>\n",
       "      <td>Jack</td>\n",
       "      <td>47</td>\n",
       "      <td>7</td>\n",
       "      <td>Economist</td>\n",
       "    </tr>\n",
       "    <tr>\n",
       "      <th>6</th>\n",
       "      <td>Joshua</td>\n",
       "      <td>48</td>\n",
       "      <td>8</td>\n",
       "      <td>Account Manager</td>\n",
       "    </tr>\n",
       "    <tr>\n",
       "      <th>5</th>\n",
       "      <td>Jonathan</td>\n",
       "      <td>54</td>\n",
       "      <td>6</td>\n",
       "      <td>Admin. Assistant</td>\n",
       "    </tr>\n",
       "    <tr>\n",
       "      <th>3</th>\n",
       "      <td>Brandon</td>\n",
       "      <td>55</td>\n",
       "      <td>3</td>\n",
       "      <td>Admin. Assistant</td>\n",
       "    </tr>\n",
       "  </tbody>\n",
       "</table>\n",
       "</div>"
      ],
      "text/plain": [
       "        Name  Age  Experience                Position\n",
       "8    Matthew   22           5                Attorney\n",
       "7      Emily   23           9         Account Manager\n",
       "2    Latesha   23           9         Human Resources\n",
       "9    Anthony   27           2               Paralegal\n",
       "4      Alexa   36          11          Data Scientist\n",
       "10  Margaret   37           1            Data Analyst\n",
       "1      Kathy   41           5  Director of Operations\n",
       "11   Natalie   43           4      Research Assistant\n",
       "0       Jack   47           7               Economist\n",
       "6     Joshua   48           8         Account Manager\n",
       "5   Jonathan   54           6        Admin. Assistant\n",
       "3    Brandon   55           3        Admin. Assistant"
      ]
     },
     "execution_count": 5,
     "metadata": {},
     "output_type": "execute_result"
    }
   ],
   "source": [
    "df_age_exp = df.sort_values(by = ['Age', 'Position'])\n",
    "df_age_exp"
   ]
  },
  {
   "cell_type": "markdown",
   "metadata": {},
   "source": [
    "## Handling *#NA* values"
   ]
  },
  {
   "cell_type": "markdown",
   "metadata": {},
   "source": [
    "*#NA* (not available) refers to missing values. What if our dataset has missing values? How should we handle this scenario? For example, age has some missing values.\n",
    "\n",
    "However, in our particular case, we have introduced `NaNs`. NaN simply refers to Not a Number. Since we are looking at age as numeric values, let us observe when two of those numbers appear as missing values of the NaN form. "
   ]
  },
  {
   "cell_type": "code",
   "execution_count": 6,
   "metadata": {},
   "outputs": [
    {
     "data": {
      "text/html": [
       "<div>\n",
       "<style scoped>\n",
       "    .dataframe tbody tr th:only-of-type {\n",
       "        vertical-align: middle;\n",
       "    }\n",
       "\n",
       "    .dataframe tbody tr th {\n",
       "        vertical-align: top;\n",
       "    }\n",
       "\n",
       "    .dataframe thead th {\n",
       "        text-align: right;\n",
       "    }\n",
       "</style>\n",
       "<table border=\"1\" class=\"dataframe\">\n",
       "  <thead>\n",
       "    <tr style=\"text-align: right;\">\n",
       "      <th></th>\n",
       "      <th>Name</th>\n",
       "      <th>Age</th>\n",
       "      <th>Experience</th>\n",
       "      <th>Position</th>\n",
       "    </tr>\n",
       "  </thead>\n",
       "  <tbody>\n",
       "    <tr>\n",
       "      <th>0</th>\n",
       "      <td>Jack</td>\n",
       "      <td>47.0</td>\n",
       "      <td>7</td>\n",
       "      <td>Economist</td>\n",
       "    </tr>\n",
       "    <tr>\n",
       "      <th>1</th>\n",
       "      <td>Kathy</td>\n",
       "      <td>NaN</td>\n",
       "      <td>5</td>\n",
       "      <td>Director of Operations</td>\n",
       "    </tr>\n",
       "    <tr>\n",
       "      <th>2</th>\n",
       "      <td>Latesha</td>\n",
       "      <td>23.0</td>\n",
       "      <td>9</td>\n",
       "      <td>Human Resources</td>\n",
       "    </tr>\n",
       "    <tr>\n",
       "      <th>3</th>\n",
       "      <td>Brandon</td>\n",
       "      <td>55.0</td>\n",
       "      <td>3</td>\n",
       "      <td>Admin. Assistant</td>\n",
       "    </tr>\n",
       "    <tr>\n",
       "      <th>4</th>\n",
       "      <td>Alexa</td>\n",
       "      <td>36.0</td>\n",
       "      <td>11</td>\n",
       "      <td>Data Scientist</td>\n",
       "    </tr>\n",
       "    <tr>\n",
       "      <th>5</th>\n",
       "      <td>Jonathan</td>\n",
       "      <td>54.0</td>\n",
       "      <td>6</td>\n",
       "      <td>Admin. Assistant</td>\n",
       "    </tr>\n",
       "    <tr>\n",
       "      <th>6</th>\n",
       "      <td>Joshua</td>\n",
       "      <td>48.0</td>\n",
       "      <td>8</td>\n",
       "      <td>Account Manager</td>\n",
       "    </tr>\n",
       "    <tr>\n",
       "      <th>7</th>\n",
       "      <td>Emily</td>\n",
       "      <td>NaN</td>\n",
       "      <td>9</td>\n",
       "      <td>Account Manager</td>\n",
       "    </tr>\n",
       "    <tr>\n",
       "      <th>8</th>\n",
       "      <td>Matthew</td>\n",
       "      <td>22.0</td>\n",
       "      <td>5</td>\n",
       "      <td>Attorney</td>\n",
       "    </tr>\n",
       "    <tr>\n",
       "      <th>9</th>\n",
       "      <td>Anthony</td>\n",
       "      <td>27.0</td>\n",
       "      <td>2</td>\n",
       "      <td>Paralegal</td>\n",
       "    </tr>\n",
       "    <tr>\n",
       "      <th>10</th>\n",
       "      <td>Margaret</td>\n",
       "      <td>37.0</td>\n",
       "      <td>1</td>\n",
       "      <td>Data Analyst</td>\n",
       "    </tr>\n",
       "    <tr>\n",
       "      <th>11</th>\n",
       "      <td>Natalie</td>\n",
       "      <td>43.0</td>\n",
       "      <td>4</td>\n",
       "      <td>Research Assistant</td>\n",
       "    </tr>\n",
       "  </tbody>\n",
       "</table>\n",
       "</div>"
      ],
      "text/plain": [
       "        Name   Age  Experience                Position\n",
       "0       Jack  47.0           7               Economist\n",
       "1      Kathy   NaN           5  Director of Operations\n",
       "2    Latesha  23.0           9         Human Resources\n",
       "3    Brandon  55.0           3        Admin. Assistant\n",
       "4      Alexa  36.0          11          Data Scientist\n",
       "5   Jonathan  54.0           6        Admin. Assistant\n",
       "6     Joshua  48.0           8         Account Manager\n",
       "7      Emily   NaN           9         Account Manager\n",
       "8    Matthew  22.0           5                Attorney\n",
       "9    Anthony  27.0           2               Paralegal\n",
       "10  Margaret  37.0           1            Data Analyst\n",
       "11   Natalie  43.0           4      Research Assistant"
      ]
     },
     "execution_count": 6,
     "metadata": {},
     "output_type": "execute_result"
    }
   ],
   "source": [
    "df_2 = pd.DataFrame({'Name': ['Jack', 'Kathy', 'Latesha', \n",
    "                    'Brandon', 'Alexa', \n",
    "                    'Jonathan', 'Joshua', 'Emily', \n",
    "                    'Matthew', 'Anthony', 'Margaret', \n",
    "                    'Natalie'],\n",
    "                   \n",
    "                   'Age':[47, np.nan , 23, 55, 36, 54, 48, \n",
    "                          np.nan, 22, 27, 37, 43],\n",
    "                   \n",
    "                   'Experience':[7,5,9,3,11,6,8,9,5,2,1,4],\n",
    "                     \n",
    "                   'Position': ['Economist', \n",
    "                    'Director of Operations', \n",
    "                    'Human Resources', 'Admin. Assistant', \n",
    "                    'Data Scientist', 'Admin. Assistant', \n",
    "                    'Account Manager', 'Account Manager', \n",
    "                    'Attorney', 'Paralegal','Data Analyst', \n",
    "                    'Research Assistant']})\n",
    "df_2"
   ]
  },
  {
   "cell_type": "markdown",
   "metadata": {},
   "source": [
    "## Inspecting *#NA* values"
   ]
  },
  {
   "cell_type": "code",
   "execution_count": 7,
   "metadata": {},
   "outputs": [
    {
     "name": "stdout",
     "output_type": "stream",
     "text": [
      "     Name    Age  Experience  Position\n",
      "0   False  False       False     False\n",
      "1   False   True       False     False\n",
      "2   False  False       False     False\n",
      "3   False  False       False     False\n",
      "4   False  False       False     False\n",
      "5   False  False       False     False\n",
      "6   False  False       False     False\n",
      "7   False   True       False     False\n",
      "8   False  False       False     False\n",
      "9   False  False       False     False\n",
      "10  False  False       False     False\n",
      "11  False  False       False     False \n",
      "\n",
      "Name          0\n",
      "Age           2\n",
      "Experience    0\n",
      "Position      0\n",
      "dtype: int64\n"
     ]
    }
   ],
   "source": [
    "# inspect dataset for missing values\n",
    "# with logical (bool) returns\n",
    "print(df_2.isnull(), '\\n')\n",
    "\n",
    "# sum up all of the missing values in \n",
    "# each row (if there are any)\n",
    "print(df_2.isnull().sum())"
   ]
  },
  {
   "cell_type": "markdown",
   "metadata": {},
   "source": [
    "We can delete the rows with missing values by making an `dropna()` function call in the following manner:"
   ]
  },
  {
   "cell_type": "code",
   "execution_count": 8,
   "metadata": {},
   "outputs": [
    {
     "data": {
      "text/html": [
       "<div>\n",
       "<style scoped>\n",
       "    .dataframe tbody tr th:only-of-type {\n",
       "        vertical-align: middle;\n",
       "    }\n",
       "\n",
       "    .dataframe tbody tr th {\n",
       "        vertical-align: top;\n",
       "    }\n",
       "\n",
       "    .dataframe thead th {\n",
       "        text-align: right;\n",
       "    }\n",
       "</style>\n",
       "<table border=\"1\" class=\"dataframe\">\n",
       "  <thead>\n",
       "    <tr style=\"text-align: right;\">\n",
       "      <th></th>\n",
       "      <th>Name</th>\n",
       "      <th>Age</th>\n",
       "      <th>Experience</th>\n",
       "      <th>Position</th>\n",
       "    </tr>\n",
       "  </thead>\n",
       "  <tbody>\n",
       "    <tr>\n",
       "      <th>0</th>\n",
       "      <td>Jack</td>\n",
       "      <td>47.0</td>\n",
       "      <td>7</td>\n",
       "      <td>Economist</td>\n",
       "    </tr>\n",
       "    <tr>\n",
       "      <th>2</th>\n",
       "      <td>Latesha</td>\n",
       "      <td>23.0</td>\n",
       "      <td>9</td>\n",
       "      <td>Human Resources</td>\n",
       "    </tr>\n",
       "    <tr>\n",
       "      <th>3</th>\n",
       "      <td>Brandon</td>\n",
       "      <td>55.0</td>\n",
       "      <td>3</td>\n",
       "      <td>Admin. Assistant</td>\n",
       "    </tr>\n",
       "    <tr>\n",
       "      <th>4</th>\n",
       "      <td>Alexa</td>\n",
       "      <td>36.0</td>\n",
       "      <td>11</td>\n",
       "      <td>Data Scientist</td>\n",
       "    </tr>\n",
       "    <tr>\n",
       "      <th>5</th>\n",
       "      <td>Jonathan</td>\n",
       "      <td>54.0</td>\n",
       "      <td>6</td>\n",
       "      <td>Admin. Assistant</td>\n",
       "    </tr>\n",
       "    <tr>\n",
       "      <th>6</th>\n",
       "      <td>Joshua</td>\n",
       "      <td>48.0</td>\n",
       "      <td>8</td>\n",
       "      <td>Account Manager</td>\n",
       "    </tr>\n",
       "    <tr>\n",
       "      <th>8</th>\n",
       "      <td>Matthew</td>\n",
       "      <td>22.0</td>\n",
       "      <td>5</td>\n",
       "      <td>Attorney</td>\n",
       "    </tr>\n",
       "    <tr>\n",
       "      <th>9</th>\n",
       "      <td>Anthony</td>\n",
       "      <td>27.0</td>\n",
       "      <td>2</td>\n",
       "      <td>Paralegal</td>\n",
       "    </tr>\n",
       "    <tr>\n",
       "      <th>10</th>\n",
       "      <td>Margaret</td>\n",
       "      <td>37.0</td>\n",
       "      <td>1</td>\n",
       "      <td>Data Analyst</td>\n",
       "    </tr>\n",
       "    <tr>\n",
       "      <th>11</th>\n",
       "      <td>Natalie</td>\n",
       "      <td>43.0</td>\n",
       "      <td>4</td>\n",
       "      <td>Research Assistant</td>\n",
       "    </tr>\n",
       "  </tbody>\n",
       "</table>\n",
       "</div>"
      ],
      "text/plain": [
       "        Name   Age  Experience            Position\n",
       "0       Jack  47.0           7           Economist\n",
       "2    Latesha  23.0           9     Human Resources\n",
       "3    Brandon  55.0           3    Admin. Assistant\n",
       "4      Alexa  36.0          11      Data Scientist\n",
       "5   Jonathan  54.0           6    Admin. Assistant\n",
       "6     Joshua  48.0           8     Account Manager\n",
       "8    Matthew  22.0           5            Attorney\n",
       "9    Anthony  27.0           2           Paralegal\n",
       "10  Margaret  37.0           1        Data Analyst\n",
       "11   Natalie  43.0           4  Research Assistant"
      ]
     },
     "execution_count": 8,
     "metadata": {},
     "output_type": "execute_result"
    }
   ],
   "source": [
    "# drop missing values\n",
    "df_2.dropna(subset=['Age'], inplace=True)  \n",
    "\n",
    "# inspect the dataframe; there are no\n",
    "# more missing values, since we dropped them\n",
    "df_2"
   ]
  },
  {
   "cell_type": "markdown",
   "metadata": {},
   "source": [
    "What if we receive a dataframe that, at a cursory glance, warehouses numerical values where we see numbers, but when running additional operations on the dataframe, we discover that we cannot conduct numerical exercises with *columns that appear to have numbers*. This is exactly why it is of utmost importance for us to always inspect the structure of the dataframe using the `df.dtypes` function call. Here is an example of the same dataframe with altered data types."
   ]
  },
  {
   "cell_type": "code",
   "execution_count": 9,
   "metadata": {},
   "outputs": [
    {
     "data": {
      "text/html": [
       "<div>\n",
       "<style scoped>\n",
       "    .dataframe tbody tr th:only-of-type {\n",
       "        vertical-align: middle;\n",
       "    }\n",
       "\n",
       "    .dataframe tbody tr th {\n",
       "        vertical-align: top;\n",
       "    }\n",
       "\n",
       "    .dataframe thead th {\n",
       "        text-align: right;\n",
       "    }\n",
       "</style>\n",
       "<table border=\"1\" class=\"dataframe\">\n",
       "  <thead>\n",
       "    <tr style=\"text-align: right;\">\n",
       "      <th></th>\n",
       "      <th>Name</th>\n",
       "      <th>Age</th>\n",
       "      <th>Experience</th>\n",
       "      <th>Position</th>\n",
       "    </tr>\n",
       "  </thead>\n",
       "  <tbody>\n",
       "    <tr>\n",
       "      <th>0</th>\n",
       "      <td>Jack</td>\n",
       "      <td>47</td>\n",
       "      <td>7</td>\n",
       "      <td>Economist</td>\n",
       "    </tr>\n",
       "    <tr>\n",
       "      <th>1</th>\n",
       "      <td>Kathy</td>\n",
       "      <td>41</td>\n",
       "      <td>5</td>\n",
       "      <td>Director of Operations</td>\n",
       "    </tr>\n",
       "    <tr>\n",
       "      <th>2</th>\n",
       "      <td>Latesha</td>\n",
       "      <td>23</td>\n",
       "      <td>9</td>\n",
       "      <td>Human Resources</td>\n",
       "    </tr>\n",
       "    <tr>\n",
       "      <th>3</th>\n",
       "      <td>Brandon</td>\n",
       "      <td>55</td>\n",
       "      <td>3</td>\n",
       "      <td>Admin. Assistant</td>\n",
       "    </tr>\n",
       "    <tr>\n",
       "      <th>4</th>\n",
       "      <td>Alexa</td>\n",
       "      <td>36</td>\n",
       "      <td>11</td>\n",
       "      <td>Data Scientist</td>\n",
       "    </tr>\n",
       "    <tr>\n",
       "      <th>5</th>\n",
       "      <td>Jonathan</td>\n",
       "      <td>54</td>\n",
       "      <td>6</td>\n",
       "      <td>Admin. Assistant</td>\n",
       "    </tr>\n",
       "    <tr>\n",
       "      <th>6</th>\n",
       "      <td>Joshua</td>\n",
       "      <td>48</td>\n",
       "      <td>8</td>\n",
       "      <td>Account Manager</td>\n",
       "    </tr>\n",
       "    <tr>\n",
       "      <th>7</th>\n",
       "      <td>Emily</td>\n",
       "      <td>23</td>\n",
       "      <td>9</td>\n",
       "      <td>Account Manager</td>\n",
       "    </tr>\n",
       "    <tr>\n",
       "      <th>8</th>\n",
       "      <td>Matthew</td>\n",
       "      <td>22</td>\n",
       "      <td>5</td>\n",
       "      <td>Attorney</td>\n",
       "    </tr>\n",
       "    <tr>\n",
       "      <th>9</th>\n",
       "      <td>Anthony</td>\n",
       "      <td>27</td>\n",
       "      <td>2</td>\n",
       "      <td>Paralegal</td>\n",
       "    </tr>\n",
       "    <tr>\n",
       "      <th>10</th>\n",
       "      <td>Margaret</td>\n",
       "      <td>37</td>\n",
       "      <td>1</td>\n",
       "      <td>Data Analyst</td>\n",
       "    </tr>\n",
       "    <tr>\n",
       "      <th>11</th>\n",
       "      <td>Natalie</td>\n",
       "      <td>43</td>\n",
       "      <td>4</td>\n",
       "      <td>Research Assistant</td>\n",
       "    </tr>\n",
       "  </tbody>\n",
       "</table>\n",
       "</div>"
      ],
      "text/plain": [
       "        Name Age  Experience                Position\n",
       "0       Jack  47           7               Economist\n",
       "1      Kathy  41           5  Director of Operations\n",
       "2    Latesha  23           9         Human Resources\n",
       "3    Brandon  55           3        Admin. Assistant\n",
       "4      Alexa  36          11          Data Scientist\n",
       "5   Jonathan  54           6        Admin. Assistant\n",
       "6     Joshua  48           8         Account Manager\n",
       "7      Emily  23           9         Account Manager\n",
       "8    Matthew  22           5                Attorney\n",
       "9    Anthony  27           2               Paralegal\n",
       "10  Margaret  37           1            Data Analyst\n",
       "11   Natalie  43           4      Research Assistant"
      ]
     },
     "execution_count": 9,
     "metadata": {},
     "output_type": "execute_result"
    }
   ],
   "source": [
    "df_3 = pd.DataFrame({\n",
    "                    'Name': ['Jack', 'Kathy', 'Latesha', \n",
    "                    'Brandon', 'Alexa', \n",
    "                    'Jonathan', 'Joshua', 'Emily', \n",
    "                    'Matthew', 'Anthony', 'Margaret', \n",
    "                    'Natalie'],\n",
    "                   \n",
    "                    'Age':['47', '41', '23', '55', '36', '54', \n",
    "                          '48', '23', '22', '27', '37', '43'],\n",
    "                   \n",
    "                    'Experience':[7,5,9,3,11,6,8,9,5,2,1,4],\n",
    "    \n",
    "                    'Position': ['Economist', \n",
    "                    'Director of Operations', \n",
    "                    'Human Resources', 'Admin. Assistant', \n",
    "                    'Data Scientist', 'Admin. Assistant', \n",
    "                    'Account Manager', 'Account Manager', \n",
    "                    'Attorney', 'Paralegal','Data Analyst', \n",
    "                    'Research Assistant']\n",
    "                })\n",
    "df_3"
   ]
  },
  {
   "cell_type": "markdown",
   "metadata": {},
   "source": [
    "At a cursory glance, the data frame looks identical to the `df` we had originally. However, inspecting the data types yields unexpected information, that age is not an integer:"
   ]
  },
  {
   "cell_type": "code",
   "execution_count": 10,
   "metadata": {},
   "outputs": [
    {
     "data": {
      "text/plain": [
       "Name          object\n",
       "Age           object\n",
       "Experience     int64\n",
       "Position      object\n",
       "dtype: object"
      ]
     },
     "execution_count": 10,
     "metadata": {},
     "output_type": "execute_result"
    }
   ],
   "source": [
    "# age is now an object\n",
    "df_3.dtypes"
   ]
  },
  {
   "cell_type": "markdown",
   "metadata": {},
   "source": [
    "Let us convert age back to an integer and re-inspect the dataframe. Notice how converting entire columns of dataframes from an objects to numeric data is more than just calling the `int()` function. We re-assign the variable with the specified column back to itself using the `pd.to_numeric()` function as follows:"
   ]
  },
  {
   "cell_type": "code",
   "execution_count": 11,
   "metadata": {},
   "outputs": [
    {
     "data": {
      "text/plain": [
       "Name          object\n",
       "Age            int64\n",
       "Experience     int64\n",
       "Position      object\n",
       "dtype: object"
      ]
     },
     "execution_count": 11,
     "metadata": {},
     "output_type": "execute_result"
    }
   ],
   "source": [
    "df_3['Age'] = pd.to_numeric(df_3['Age'])\n",
    "df_3.dtypes"
   ]
  },
  {
   "cell_type": "markdown",
   "metadata": {},
   "source": [
    "However, to cast a variable in a dataframe into an object (i.e., string), we can simply apply the `str()` function call before the dataframe name and specified column in the following manner:"
   ]
  },
  {
   "cell_type": "code",
   "execution_count": 12,
   "metadata": {},
   "outputs": [
    {
     "data": {
      "text/plain": [
       "Name          object\n",
       "Age            int64\n",
       "Experience    object\n",
       "Position      object\n",
       "dtype: object"
      ]
     },
     "execution_count": 12,
     "metadata": {},
     "output_type": "execute_result"
    }
   ],
   "source": [
    "df_3['Experience'] = str(df_3['Experience'])\n",
    "df_3.dtypes"
   ]
  },
  {
   "cell_type": "markdown",
   "metadata": {},
   "source": [
    "## Import Data From Flat CSV File\n",
    "\n",
    "Assuming that your file is located in the same working directory that you have specified at the onset of \n",
    "this tutorial/workshop, make an assignment to a new variable (i.e., `ex_csv`) \n",
    "and call `pd.read_csv()` in the following generalized format:\n",
    "\n",
    "Notice that the `pd` in front of `read_csv()` belongs to the pandas library which we imported as `pd` earlier. \n",
    "\n",
    "`ex_csv <- pd.read.csv(filename)`\n",
    "\n"
   ]
  },
  {
   "cell_type": "markdown",
   "metadata": {},
   "source": [
    "## Specifying a Random State and Seed\n",
    "\n",
    "Whereas in R, we use the `set.seed()` command to specify an arbitrary number for reproducibility of results, in `Python` we use the `random_state()`function. It is always best practice to use the same assigned random state throughout the entire experiment. Setting the random state to this arbitrary number (of any length) will guarantee exactly the same output across all Python notebooks, sessions and users, respectively. \n",
    "\n",
    "When working with simulated numpy arrays, it is best practice to set a seed using the `np.random.seed()` function."
   ]
  },
  {
   "cell_type": "markdown",
   "metadata": {},
   "source": [
    "## Basic Statistics"
   ]
  },
  {
   "cell_type": "markdown",
   "metadata": {},
   "source": [
    "Let us create a new data frame of numbers 1 - 100 and go over the basic statistical functions."
   ]
  },
  {
   "cell_type": "code",
   "execution_count": 13,
   "metadata": {},
   "outputs": [
    {
     "data": {
      "text/html": [
       "<div>\n",
       "<style scoped>\n",
       "    .dataframe tbody tr th:only-of-type {\n",
       "        vertical-align: middle;\n",
       "    }\n",
       "\n",
       "    .dataframe tbody tr th {\n",
       "        vertical-align: top;\n",
       "    }\n",
       "\n",
       "    .dataframe thead th {\n",
       "        text-align: right;\n",
       "    }\n",
       "</style>\n",
       "<table border=\"1\" class=\"dataframe\">\n",
       "  <thead>\n",
       "    <tr style=\"text-align: right;\">\n",
       "      <th></th>\n",
       "      <th>0</th>\n",
       "    </tr>\n",
       "  </thead>\n",
       "  <tbody>\n",
       "    <tr>\n",
       "      <th>0</th>\n",
       "      <td>1</td>\n",
       "    </tr>\n",
       "    <tr>\n",
       "      <th>1</th>\n",
       "      <td>2</td>\n",
       "    </tr>\n",
       "    <tr>\n",
       "      <th>2</th>\n",
       "      <td>3</td>\n",
       "    </tr>\n",
       "    <tr>\n",
       "      <th>3</th>\n",
       "      <td>4</td>\n",
       "    </tr>\n",
       "    <tr>\n",
       "      <th>4</th>\n",
       "      <td>5</td>\n",
       "    </tr>\n",
       "    <tr>\n",
       "      <th>...</th>\n",
       "      <td>...</td>\n",
       "    </tr>\n",
       "    <tr>\n",
       "      <th>95</th>\n",
       "      <td>96</td>\n",
       "    </tr>\n",
       "    <tr>\n",
       "      <th>96</th>\n",
       "      <td>97</td>\n",
       "    </tr>\n",
       "    <tr>\n",
       "      <th>97</th>\n",
       "      <td>98</td>\n",
       "    </tr>\n",
       "    <tr>\n",
       "      <th>98</th>\n",
       "      <td>99</td>\n",
       "    </tr>\n",
       "    <tr>\n",
       "      <th>99</th>\n",
       "      <td>100</td>\n",
       "    </tr>\n",
       "  </tbody>\n",
       "</table>\n",
       "<p>100 rows × 1 columns</p>\n",
       "</div>"
      ],
      "text/plain": [
       "      0\n",
       "0     1\n",
       "1     2\n",
       "2     3\n",
       "3     4\n",
       "4     5\n",
       "..  ...\n",
       "95   96\n",
       "96   97\n",
       "97   98\n",
       "98   99\n",
       "99  100\n",
       "\n",
       "[100 rows x 1 columns]"
      ]
     },
     "execution_count": 13,
     "metadata": {},
     "output_type": "execute_result"
    }
   ],
   "source": [
    "mystats = pd.DataFrame(list(range(1,101)))\n",
    "mystats"
   ]
  },
  {
   "cell_type": "code",
   "execution_count": 14,
   "metadata": {},
   "outputs": [
    {
     "name": "stdout",
     "output_type": "stream",
     "text": [
      "Mean: 50.5\n",
      "Median: 50.5\n",
      "Minimum: 1\n",
      "Maximum: 100\n",
      "Sum of values: 5050\n",
      "Standard Deviation: 29.01149197588202\n"
     ]
    }
   ],
   "source": [
    "mean = mystats.mean() # mean of the vector\n",
    "median = mystats.median() # median of the vector\n",
    "minimum = mystats.min() # minimum of the vector\n",
    "maximum = mystats.max() # maximum of the vector\n",
    "range_mystats = (mystats.min(),mystats.max())\n",
    "sum_mystats = mystats.sum() # sum of the vector\n",
    "stdev = mystats.std() # standard deviation of the vector\n",
    "\n",
    "# we put a '0' in brackets after each of the following\n",
    "# variables so that we can access only the respective\n",
    "# statistics of each function which are contained in \n",
    "# the first element\n",
    "print('Mean:', mean[0])\n",
    "print('Median:', median[0])\n",
    "print('Minimum:', minimum[0])\n",
    "print('Maximum:', maximum[0])\n",
    "print('Sum of values:', sum_mystats[0])\n",
    "print('Standard Deviation:', stdev[0])"
   ]
  },
  {
   "cell_type": "markdown",
   "metadata": {},
   "source": [
    "Now, we can simply this endeavor by using the `df.describe()` function which will output the summary statistics:"
   ]
  },
  {
   "cell_type": "code",
   "execution_count": 15,
   "metadata": {},
   "outputs": [
    {
     "data": {
      "text/html": [
       "<div>\n",
       "<style scoped>\n",
       "    .dataframe tbody tr th:only-of-type {\n",
       "        vertical-align: middle;\n",
       "    }\n",
       "\n",
       "    .dataframe tbody tr th {\n",
       "        vertical-align: top;\n",
       "    }\n",
       "\n",
       "    .dataframe thead th {\n",
       "        text-align: right;\n",
       "    }\n",
       "</style>\n",
       "<table border=\"1\" class=\"dataframe\">\n",
       "  <thead>\n",
       "    <tr style=\"text-align: right;\">\n",
       "      <th></th>\n",
       "      <th>0</th>\n",
       "    </tr>\n",
       "  </thead>\n",
       "  <tbody>\n",
       "    <tr>\n",
       "      <th>count</th>\n",
       "      <td>100.000000</td>\n",
       "    </tr>\n",
       "    <tr>\n",
       "      <th>mean</th>\n",
       "      <td>50.500000</td>\n",
       "    </tr>\n",
       "    <tr>\n",
       "      <th>std</th>\n",
       "      <td>29.011492</td>\n",
       "    </tr>\n",
       "    <tr>\n",
       "      <th>min</th>\n",
       "      <td>1.000000</td>\n",
       "    </tr>\n",
       "    <tr>\n",
       "      <th>25%</th>\n",
       "      <td>25.750000</td>\n",
       "    </tr>\n",
       "    <tr>\n",
       "      <th>50%</th>\n",
       "      <td>50.500000</td>\n",
       "    </tr>\n",
       "    <tr>\n",
       "      <th>75%</th>\n",
       "      <td>75.250000</td>\n",
       "    </tr>\n",
       "    <tr>\n",
       "      <th>max</th>\n",
       "      <td>100.000000</td>\n",
       "    </tr>\n",
       "  </tbody>\n",
       "</table>\n",
       "</div>"
      ],
      "text/plain": [
       "                0\n",
       "count  100.000000\n",
       "mean    50.500000\n",
       "std     29.011492\n",
       "min      1.000000\n",
       "25%     25.750000\n",
       "50%     50.500000\n",
       "75%     75.250000\n",
       "max    100.000000"
      ]
     },
     "execution_count": 15,
     "metadata": {},
     "output_type": "execute_result"
    }
   ],
   "source": [
    "mystats.describe()"
   ]
  },
  {
   "cell_type": "markdown",
   "metadata": {},
   "source": [
    "## Transposing The Contents of a Dataframe"
   ]
  },
  {
   "cell_type": "markdown",
   "metadata": {},
   "source": [
    "If we wish to transpose this dataframe, we can place a `.T` behind `.describe()` like so:"
   ]
  },
  {
   "cell_type": "code",
   "execution_count": 16,
   "metadata": {},
   "outputs": [
    {
     "data": {
      "text/html": [
       "<div>\n",
       "<style scoped>\n",
       "    .dataframe tbody tr th:only-of-type {\n",
       "        vertical-align: middle;\n",
       "    }\n",
       "\n",
       "    .dataframe tbody tr th {\n",
       "        vertical-align: top;\n",
       "    }\n",
       "\n",
       "    .dataframe thead th {\n",
       "        text-align: right;\n",
       "    }\n",
       "</style>\n",
       "<table border=\"1\" class=\"dataframe\">\n",
       "  <thead>\n",
       "    <tr style=\"text-align: right;\">\n",
       "      <th></th>\n",
       "      <th>count</th>\n",
       "      <th>mean</th>\n",
       "      <th>std</th>\n",
       "      <th>min</th>\n",
       "      <th>25%</th>\n",
       "      <th>50%</th>\n",
       "      <th>75%</th>\n",
       "      <th>max</th>\n",
       "    </tr>\n",
       "  </thead>\n",
       "  <tbody>\n",
       "    <tr>\n",
       "      <th>0</th>\n",
       "      <td>100.0</td>\n",
       "      <td>50.5</td>\n",
       "      <td>29.011492</td>\n",
       "      <td>1.0</td>\n",
       "      <td>25.75</td>\n",
       "      <td>50.5</td>\n",
       "      <td>75.25</td>\n",
       "      <td>100.0</td>\n",
       "    </tr>\n",
       "  </tbody>\n",
       "</table>\n",
       "</div>"
      ],
      "text/plain": [
       "   count  mean        std  min    25%   50%    75%    max\n",
       "0  100.0  50.5  29.011492  1.0  25.75  50.5  75.25  100.0"
      ]
     },
     "execution_count": 16,
     "metadata": {},
     "output_type": "execute_result"
    }
   ],
   "source": [
    "mystats.describe().T"
   ]
  },
  {
   "cell_type": "markdown",
   "metadata": {},
   "source": [
    "## Simulating a Random Normal Distribution"
   ]
  },
  {
   "cell_type": "code",
   "execution_count": 22,
   "metadata": {},
   "outputs": [
    {
     "data": {
      "text/html": [
       "<div>\n",
       "<style scoped>\n",
       "    .dataframe tbody tr th:only-of-type {\n",
       "        vertical-align: middle;\n",
       "    }\n",
       "\n",
       "    .dataframe tbody tr th {\n",
       "        vertical-align: top;\n",
       "    }\n",
       "\n",
       "    .dataframe thead th {\n",
       "        text-align: right;\n",
       "    }\n",
       "</style>\n",
       "<table border=\"1\" class=\"dataframe\">\n",
       "  <thead>\n",
       "    <tr style=\"text-align: right;\">\n",
       "      <th></th>\n",
       "      <th>Index</th>\n",
       "      <th>Number</th>\n",
       "    </tr>\n",
       "  </thead>\n",
       "  <tbody>\n",
       "    <tr>\n",
       "      <th>0</th>\n",
       "      <td>1</td>\n",
       "      <td>69.634250</td>\n",
       "    </tr>\n",
       "    <tr>\n",
       "      <th>1</th>\n",
       "      <td>2</td>\n",
       "      <td>52.757697</td>\n",
       "    </tr>\n",
       "    <tr>\n",
       "      <th>2</th>\n",
       "      <td>3</td>\n",
       "      <td>54.586582</td>\n",
       "    </tr>\n",
       "    <tr>\n",
       "      <th>3</th>\n",
       "      <td>4</td>\n",
       "      <td>60.012647</td>\n",
       "    </tr>\n",
       "    <tr>\n",
       "      <th>4</th>\n",
       "      <td>5</td>\n",
       "      <td>42.361647</td>\n",
       "    </tr>\n",
       "    <tr>\n",
       "      <th>...</th>\n",
       "      <td>...</td>\n",
       "      <td>...</td>\n",
       "    </tr>\n",
       "    <tr>\n",
       "      <th>95</th>\n",
       "      <td>96</td>\n",
       "      <td>43.675536</td>\n",
       "    </tr>\n",
       "    <tr>\n",
       "      <th>96</th>\n",
       "      <td>97</td>\n",
       "      <td>51.745236</td>\n",
       "    </tr>\n",
       "    <tr>\n",
       "      <th>97</th>\n",
       "      <td>98</td>\n",
       "      <td>47.626588</td>\n",
       "    </tr>\n",
       "    <tr>\n",
       "      <th>98</th>\n",
       "      <td>99</td>\n",
       "      <td>55.307725</td>\n",
       "    </tr>\n",
       "    <tr>\n",
       "      <th>99</th>\n",
       "      <td>100</td>\n",
       "      <td>38.732611</td>\n",
       "    </tr>\n",
       "  </tbody>\n",
       "</table>\n",
       "<p>100 rows × 2 columns</p>\n",
       "</div>"
      ],
      "text/plain": [
       "    Index     Number\n",
       "0       1  69.634250\n",
       "1       2  52.757697\n",
       "2       3  54.586582\n",
       "3       4  60.012647\n",
       "4       5  42.361647\n",
       "..    ...        ...\n",
       "95     96  43.675536\n",
       "96     97  51.745236\n",
       "97     98  47.626588\n",
       "98     99  55.307725\n",
       "99    100  38.732611\n",
       "\n",
       "[100 rows x 2 columns]"
      ]
     },
     "execution_count": 22,
     "metadata": {},
     "output_type": "execute_result"
    }
   ],
   "source": [
    "# set seed for reproducibility\n",
    "np.random.seed(222)\n",
    "\n",
    "mu, sigma = 50, 10 # mean and standard deviation\n",
    "\n",
    "# assign variable to a dataframe\n",
    "norm_vals = pd.DataFrame(np.random.normal(mu, sigma, 100))\n",
    "\n",
    "x = list(range(1, 101))\n",
    "y = list(norm_vals[0])\n",
    "\n",
    "norm_vals = pd.DataFrame(y,x)\n",
    "norm_vals.reset_index(inplace=True)\n",
    "norm_vals.rename(columns = {0:'Number',\n",
    "                              'index': 'Index'}, \n",
    "                               inplace = True) # mod. w/out copy\n",
    "norm_vals"
   ]
  },
  {
   "cell_type": "markdown",
   "metadata": {},
   "source": [
    "## Creating Basic Plots"
   ]
  },
  {
   "cell_type": "markdown",
   "metadata": {},
   "source": [
    "Unlike `R` where we can simply call the `stem()` function to create a stem-and-leaf plot, in `Python` we must first install and import the `stemgraphic` library."
   ]
  },
  {
   "cell_type": "code",
   "execution_count": 23,
   "metadata": {},
   "outputs": [],
   "source": [
    "# pip install stemgraphic"
   ]
  },
  {
   "cell_type": "markdown",
   "metadata": {},
   "source": [
    "We can limit the output of how many rows get printed in the resulting output by parsing in the `.loc()` function. So, if we want to print only the first 25 rows, we will access our dataframe, `norm_vals['Number']` followed by `.loc[0:25]`."
   ]
  },
  {
   "cell_type": "code",
   "execution_count": 24,
   "metadata": {
    "scrolled": false
   },
   "outputs": [
    {
     "data": {
      "image/png": "[encoded data removed]",
      "text/plain": [
       "<Figure size 540x216 with 1 Axes>"
      ]
     },
     "metadata": {
      "needs_background": "light"
     },
     "output_type": "display_data"
    }
   ],
   "source": [
    "import stemgraphic\n",
    "\n",
    "# create stem-and-leaf plot\n",
    "fig, ax = stemgraphic.stem_graphic(norm_vals['Number'].iloc[0:25])"
   ]
  },
  {
   "cell_type": "markdown",
   "metadata": {},
   "source": [
    "## Matplotlib Library"
   ]
  },
  {
   "cell_type": "markdown",
   "metadata": {},
   "source": [
    "We must first import the `matplotlib` library, a most frequently used graphical library for making basic plots in Python. Let us import this library and plot the histogram."
   ]
  },
  {
   "cell_type": "code",
   "execution_count": 25,
   "metadata": {},
   "outputs": [],
   "source": [
    "import matplotlib.pyplot as plt"
   ]
  },
  {
   "cell_type": "markdown",
   "metadata": {},
   "source": [
    "## Histograms"
   ]
  },
  {
   "cell_type": "markdown",
   "metadata": {},
   "source": [
    "We can proceed to plot a histogram of these `norm_vals` in order to inspect their distribution from a purely graphical standpoint.  \n",
    "\n",
    "Unlike R, Python does not use a built-in `hist()` function to accomplish this task. To make the plot, we will parse in our `dataframe` follows by `.hist(grid = False)` where `grid = False` explicitly avoids plotting on a grid. Moreover, `plt.show()` expressly tells `matplotlib` to avoid extraneous output above the plot."
   ]
  },
  {
   "cell_type": "code",
   "execution_count": 26,
   "metadata": {},
   "outputs": [
    {
     "data": {
      "image/png": "[encoded data removed]",
      "text/plain": [
       "<Figure size 432x288 with 1 Axes>"
      ]
     },
     "metadata": {
      "needs_background": "light"
     },
     "output_type": "display_data"
    }
   ],
   "source": [
    "# plot a basic histogram\n",
    "norm_vals['Number'].hist()\n",
    "plt.show()"
   ]
  },
  {
   "cell_type": "markdown",
   "metadata": {},
   "source": [
    "Our title, *x*-axis, and *y*-axis labels are given to us by default. However, let us say that we want to change all of them to our desired specifications. To this end, we can parse in and  control the following parameters:"
   ]
  },
  {
   "cell_type": "code",
   "execution_count": 27,
   "metadata": {},
   "outputs": [
    {
     "data": {
      "image/png": "[encoded data removed]",
      "text/plain": [
       "<Figure size 432x288 with 1 Axes>"
      ]
     },
     "metadata": {
      "needs_background": "light"
     },
     "output_type": "display_data"
    }
   ],
   "source": [
    "norm_vals['Number'].hist(grid=False, \n",
    "                         color = \"lightblue\",\n",
    "                         bins = 20) # change color\n",
    "plt.title ('Histogram of Simulated Data') # title\n",
    "plt.xlabel('Values')                      # x-axis\n",
    "plt.ylabel('Count')                       # y-axis\n",
    "plt.show()"
   ]
  },
  {
   "cell_type": "markdown",
   "metadata": {},
   "source": [
    "## Boxplots"
   ]
  },
  {
   "cell_type": "markdown",
   "metadata": {},
   "source": [
    "Similarly, we can make a boxplot using the `df.boxplot()` function call. However, the `norm_vals` dataframe has two columns. Let us only examine the randomly distributed 100 rows that we have contained in the `Number` column. \n",
    "\n",
    "One way to do this is to create a new dataframe to only access the `Number` column:"
   ]
  },
  {
   "cell_type": "code",
   "execution_count": 28,
   "metadata": {},
   "outputs": [],
   "source": [
    "norm_number = pd.DataFrame(norm_vals['Number'])"
   ]
  },
  {
   "cell_type": "code",
   "execution_count": 29,
   "metadata": {},
   "outputs": [
    {
     "data": {
      "image/png": "[encoded data removed]",
      "text/plain": [
       "<Figure size 432x288 with 1 Axes>"
      ]
     },
     "metadata": {
      "needs_background": "light"
     },
     "output_type": "display_data"
    }
   ],
   "source": [
    "norm_number.boxplot(grid = False) \n",
    "\n",
    "# plot title\n",
    "plt.title ('Boxplot of Simulated Data') \n",
    "# x-axis label\n",
    "plt.xlabel('')   \n",
    "# y-axis label\n",
    "plt.ylabel('Values')  \n",
    "\n",
    "plt.show()"
   ]
  },
  {
   "cell_type": "markdown",
   "metadata": {},
   "source": [
    "Now, let us pivot the boxplot by parsing in the `vert=False` parameter:"
   ]
  },
  {
   "cell_type": "code",
   "execution_count": 30,
   "metadata": {},
   "outputs": [
    {
     "data": {
      "image/png": "[encoded data removed]",
      "text/plain": [
       "<Figure size 432x288 with 1 Axes>"
      ]
     },
     "metadata": {
      "needs_background": "light"
     },
     "output_type": "display_data"
    }
   ],
   "source": [
    "norm_number.boxplot(grid = False, vert = False) # re-orient\n",
    "plt.title ('Boxplot of Simulated Data') # title\n",
    "plt.xlabel('Values')                    # y-axis\n",
    "plt.show()"
   ]
  },
  {
   "cell_type": "markdown",
   "metadata": {},
   "source": [
    "## Scatter Plots"
   ]
  },
  {
   "cell_type": "markdown",
   "metadata": {},
   "source": [
    "To make a simple scatter plot, we will call the `plot.scatter()` function on the dataframe as follows:"
   ]
  },
  {
   "cell_type": "code",
   "execution_count": 32,
   "metadata": {},
   "outputs": [
    {
     "data": {
      "image/png": "[encoded data removed]",
      "text/plain": [
       "<Figure size 720x288 with 1 Axes>"
      ]
     },
     "metadata": {
      "needs_background": "light"
     },
     "output_type": "display_data"
    }
   ],
   "source": [
    "x = norm_vals['Index'] # independent variable\n",
    "y = norm_vals['Number'] # dependent variable\n",
    "\n",
    "fig,ax = plt.subplots(figsize = (10,4))\n",
    "plt.scatter(x, y, marker = \"^\") # scatter plot call\n",
    "plt.title('Scatter Plot of Simulated Data')\n",
    "\n",
    "# we can also separate lines by semicolon\n",
    "plt.xlabel('Index'); plt.ylabel('Value'); plt.show()"
   ]
  },
  {
   "cell_type": "code",
   "execution_count": null,
   "metadata": {},
   "outputs": [],
   "source": []
  }
 ],
 "metadata": {
  "kernelspec": {
   "display_name": "Python 3 (ipykernel)",
   "language": "python",
   "name": "python3"
  },
  "language_info": {
   "codemirror_mode": {
    "name": "ipython",
    "version": 3
   },
   "file_extension": ".py",
   "mimetype": "text/x-python",
   "name": "python",
   "nbconvert_exporter": "python",
   "pygments_lexer": "ipython3",
   "version": "3.9.7"
  }
 },
 "nbformat": 4,
 "nbformat_minor": 4
}
