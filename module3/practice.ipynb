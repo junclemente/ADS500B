{
 "cells": [
  {
   "cell_type": "markdown",
   "metadata": {},
   "source": [
    "# Chapter 5\n",
    "### Control Structures\n",
    "\n",
    "Pick any number within the range of 99 and 199 and check if the number is divisible by 7 using Python code. If the number is divisible, print the following: “the number is divisible by 7”; otherwise, print the number closest to the number you picked that is divisible by 7. Using a while loop, print all the numbers that are divisible by 7 within the same range.\n"
   ]
  },
  {
   "cell_type": "code",
   "execution_count": 2,
   "metadata": {},
   "outputs": [
    {
     "name": "stdout",
     "output_type": "stream",
     "text": [
      "101\n"
     ]
    }
   ],
   "source": [
    "import random\n",
    "\n",
    "random_number = random.randint(99, 199)\n",
    "print(random_number)"
   ]
  },
  {
   "cell_type": "code",
   "execution_count": 5,
   "metadata": {},
   "outputs": [
    {
     "name": "stdout",
     "output_type": "stream",
     "text": [
      "180\n",
      "181\n",
      "136\n",
      "166\n",
      "178\n",
      "150\n",
      "171\n",
      "140\n",
      "189\n",
      "189\n",
      "137\n",
      "167\n",
      "142\n",
      "106\n",
      "199\n",
      "104\n",
      "104\n",
      "187\n",
      "189\n"
     ]
    }
   ],
   "source": [
    "for i in range(1, 20):\n",
    "    random_number = random.randint(99, 199)\n",
    "    print(random_number)\n",
    "\n"
   ]
  },
  {
   "cell_type": "code",
   "execution_count": null,
   "metadata": {},
   "outputs": [],
   "source": []
  }
 ],
 "metadata": {
  "kernelspec": {
   "display_name": "data_science-Py3-10-13",
   "language": "python",
   "name": "python3"
  },
  "language_info": {
   "codemirror_mode": {
    "name": "ipython",
    "version": 3
   },
   "file_extension": ".py",
   "mimetype": "text/x-python",
   "name": "python",
   "nbconvert_exporter": "python",
   "pygments_lexer": "ipython3",
   "version": "3.10.13"
  }
 },
 "nbformat": 4,
 "nbformat_minor": 2
}
