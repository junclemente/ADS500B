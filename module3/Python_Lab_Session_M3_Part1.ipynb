{
 "cells": [
  {
   "cell_type": "markdown",
   "metadata": {},
   "source": [
    "## Python Introductory Workshop by University of San Diego (USD)  \n",
    "### Part 1\n",
    "**Leonid Shpaner**  \n",
    "**January 21, 2022**"
   ]
  },
  {
   "cell_type": "markdown",
   "metadata": {},
   "source": [
    "Whereas JupyterLab and Jupyter Notebook are the two most commonly used interactive computing platforms warehoused within the Anaconda distribution, data scientists can also leverage the cloud-based coding environment of Google Colab.\n",
    "\n",
    "[https://colab.research.google.com/?utm_source=scs-index](https://colab.research.google.com/?utm_source=scs-index)\n"
   ]
  },
  {
   "cell_type": "markdown",
   "metadata": {},
   "source": [
    "## JupyterLab Basics\n",
    "[https://jupyterlab.readthedocs.io/en/stable/user/interface.html](https://jupyterlab.readthedocs.io/en/stable/user/interface.html)"
   ]
  },
  {
   "cell_type": "markdown",
   "metadata": {},
   "source": [
    "## Cells"
   ]
  },
  {
   "cell_type": "code",
   "execution_count": 2,
   "metadata": {},
   "outputs": [
    {
     "name": "stdout",
     "output_type": "stream",
     "text": [
      "1\n",
      "2\n",
      "3\n",
      "4\n",
      "5\n",
      "6\n"
     ]
    }
   ],
   "source": [
    "# This is a code cell/block!\n",
    "\n",
    "# basic for loop\n",
    "for x in [1,2,3,4,5,6]:\n",
    "    print(x)\n"
   ]
  },
  {
   "cell_type": "markdown",
   "metadata": {},
   "source": [
    "This is a markdown cell!  \n",
    "#### Level 3 Heading  \n",
    "*italics characters are surrounded by one asterisk*  \n",
    "**bold characters are surrounded by two asterisks**  \n",
    "* one asterisk in front of an item of text can serve as a bullet point.  \n",
    "* to move the text to the next line, ensure to enter two spaces after the line.   \n",
    "    1. Simply number the items on a list using normal numering schema.  \n",
    "    2. If you have numbers in the same markdown cell as bullet points (i.e., below),\n",
    "    3. skip 4 spaces after the last bullet point and then begin numbering.\n",
    "\n",
    "Here's a guide for syntax: https://www.markdownguide.org/basic-syntax/"
   ]
  },
  {
   "cell_type": "markdown",
   "metadata": {},
   "source": [
    "## Python Basics"
   ]
  },
  {
   "cell_type": "markdown",
   "metadata": {},
   "source": [
    "We can use a code cell to conduct basic math operations as follows."
   ]
  },
  {
   "cell_type": "code",
   "execution_count": 3,
   "metadata": {},
   "outputs": [
    {
     "data": {
      "text/plain": [
       "4"
      ]
     },
     "execution_count": 3,
     "metadata": {},
     "output_type": "execute_result"
    }
   ],
   "source": [
    "2+2"
   ]
  },
  {
   "cell_type": "markdown",
   "metadata": {},
   "source": [
    "Order of operations in Python is just as important."
   ]
  },
  {
   "cell_type": "code",
   "execution_count": 4,
   "metadata": {},
   "outputs": [
    {
     "data": {
      "text/plain": [
       "False"
      ]
     },
     "execution_count": 4,
     "metadata": {},
     "output_type": "execute_result"
    }
   ],
   "source": [
    "1+3*10 == (1+3)*10"
   ]
  },
  {
   "cell_type": "markdown",
   "metadata": {},
   "source": [
    "For more basic operations including but not limited to taking the square root, log, and generally more advanced mathematical operations, we will have to import our first library (math) as follows:"
   ]
  },
  {
   "cell_type": "code",
   "execution_count": 5,
   "metadata": {},
   "outputs": [],
   "source": [
    "import math"
   ]
  },
  {
   "cell_type": "markdown",
   "metadata": {},
   "source": [
    "However, if we run two consecutive lines below without assigning to a variable or parsing in a print statement ahead of the function calls, only the latest (last) function will print the output of what is in the cell block."
   ]
  },
  {
   "cell_type": "code",
   "execution_count": 6,
   "metadata": {},
   "outputs": [
    {
     "name": "stdout",
     "output_type": "stream",
     "text": [
      "3.0\n"
     ]
    },
    {
     "data": {
      "text/plain": [
       "3628800"
      ]
     },
     "execution_count": 6,
     "metadata": {},
     "output_type": "execute_result"
    }
   ],
   "source": [
    "print(math.sqrt(9))\n",
    "math.log10(100)\n",
    "math.factorial(10)"
   ]
  },
  {
   "cell_type": "markdown",
   "metadata": {},
   "source": [
    "Let us try this again, by adding `print()` statements in front of the three functions, respectively."
   ]
  },
  {
   "cell_type": "code",
   "execution_count": 7,
   "metadata": {},
   "outputs": [
    {
     "name": "stdout",
     "output_type": "stream",
     "text": [
      "3.0\n",
      "2.0\n",
      "3628800\n"
     ]
    }
   ],
   "source": [
    "# print the output on multiple lines\n",
    "print(math.sqrt(9))\n",
    "print(math.log10(100))\n",
    "print(math.factorial(10))"
   ]
  },
  {
   "cell_type": "markdown",
   "metadata": {},
   "source": [
    "## What is a string?\n",
    "\n",
    "A string is simply any open alpha/alphanumeric text characters surrounded by either single quotation marks or double quotation marks, with no preference assigned for either single or double quotation marks, with a print statement being called prior to the strings. For example,\n"
   ]
  },
  {
   "cell_type": "code",
   "execution_count": 10,
   "metadata": {},
   "outputs": [
    {
     "name": "stdout",
     "output_type": "stream",
     "text": [
      "This is a \"string\".\n",
      "This is also a 'string123'.\n"
     ]
    }
   ],
   "source": [
    "print('This is a \"string\".')\n",
    "print( \"This is also a 'string123'.\")"
   ]
  },
  {
   "cell_type": "markdown",
   "metadata": {},
   "source": [
    "Strings in Python are arrays of bytes that represent \"Unicode characters\" (GeeksforGeeks, 2021)."
   ]
  },
  {
   "cell_type": "markdown",
   "metadata": {},
   "source": [
    "## Creating Objects"
   ]
  },
  {
   "cell_type": "markdown",
   "metadata": {},
   "source": [
    "Unlike R, Python uses the '=' symbol for making assignment statements. we can `print()` what is contained in the assignment or just call the assignment to the string as follows:"
   ]
  },
  {
   "cell_type": "code",
   "execution_count": 11,
   "metadata": {},
   "outputs": [
    {
     "data": {
      "text/plain": [
       "'pepper jack'"
      ]
     },
     "execution_count": 11,
     "metadata": {},
     "output_type": "execute_result"
    }
   ],
   "source": [
    "cheese = 'pepper jack'\n",
    "cheese "
   ]
  },
  {
   "cell_type": "markdown",
   "metadata": {},
   "source": [
    "## Determining and Setting the Current Working Directory"
   ]
  },
  {
   "cell_type": "markdown",
   "metadata": {},
   "source": [
    "The importance of determining and setting the working directory cannot be stressed enough. \n",
    "  1. Run `import os` to import operating system module. \n",
    "  2. then assign `os.getcwd()` to `cwd`.\n",
    "  3. You may choose to print the working directory using the print function as shown below.\n",
    "  4. Or change the working directory by running `os.chdir('')`.\n"
   ]
  },
  {
   "cell_type": "code",
   "execution_count": 12,
   "metadata": {},
   "outputs": [
    {
     "name": "stdout",
     "output_type": "stream",
     "text": [
      "Current working directory: C:\\Users\\pqara\\OneDrive\\Documents\\Parastoo\\ADS500B\\OH_material\\module3\n",
      "Current working directory: C:\\Users\\pqara\\OneDrive\\Documents\\Parastoo\\ADS500B\\OH_material\\module3\n"
     ]
    }
   ],
   "source": [
    "import os # import the operating system module\n",
    "cwd = os.getcwd()\n",
    "# Print the current working directory\n",
    "print(\"Current working directory: {0}\".format(cwd))\n",
    "\n",
    "# Change the current working directory\n",
    "# os.chdir('')\n",
    "\n",
    "# Print the current working directory\n",
    "print(\"Current working directory: {0}\".format(os.getcwd()))"
   ]
  },
  {
   "cell_type": "markdown",
   "metadata": {},
   "source": [
    "## Installing Libraries"
   ]
  },
  {
   "cell_type": "markdown",
   "metadata": {},
   "source": [
    "To install most common libraries, simply type in the command `pip install` `followed by library name` into an empty code cell and run it."
   ]
  },
  {
   "cell_type": "code",
   "execution_count": 13,
   "metadata": {},
   "outputs": [],
   "source": [
    "# pip install pandas "
   ]
  },
  {
   "cell_type": "markdown",
   "metadata": {},
   "source": [
    "## Loading Libraries"
   ]
  },
  {
   "cell_type": "markdown",
   "metadata": {},
   "source": [
    "For data science applications, we most commonly use [pandas](https://pandas.pydata.org/pandas-docs/stable/) for \"data structures and data analysis tools\" (Pandas, 2021) and [NumPy](https://numpy.org/) for \"scientific computing with Python\" (Numpy.org, n.d.). \n",
    "\n",
    "Ideally, at the beginning of a project, we will create an empty cell block that loads all of the libraries that we will be using. However, as we progress throughout this tutorial, we will load the necessary libraries separately.\n",
    "\n",
    "Let us now load these two libraries into an empty code cell block using `import` `name of the library` `as` `abbreviated form`."
   ]
  },
  {
   "cell_type": "code",
   "execution_count": 14,
   "metadata": {},
   "outputs": [],
   "source": [
    "import pandas as pd\n",
    "import numpy as np"
   ]
  },
  {
   "cell_type": "markdown",
   "metadata": {},
   "source": [
    "Sometimes, `Python` throws warning messages in pink on the output of code cell blocks that otherwise run correctly.  "
   ]
  },
  {
   "cell_type": "code",
   "execution_count": 15,
   "metadata": {},
   "outputs": [
    {
     "name": "stderr",
     "output_type": "stream",
     "text": [
      "C:\\Users\\pqara\\AppData\\Local\\Temp/ipykernel_3252/3842374809.py:2: UserWarning: This is an example warning message.\n",
      "  warnings.warn('This is an example warning message.') # displaying warning\n"
     ]
    }
   ],
   "source": [
    "import warnings\n",
    "warnings.warn('This is an example warning message.') # displaying warning\n"
   ]
  },
  {
   "cell_type": "markdown",
   "metadata": {},
   "source": [
    "Sometimes, it is helpful to see what these warnings are saying as added layers of de-bugging. However, they may also create unsightly output. For this reason, we will suppress any and all warning messages for the remainder of this tutorial.  \n",
    "\n",
    "To disable/suppress warning messages, let us write the following:\n"
   ]
  },
  {
   "cell_type": "code",
   "execution_count": 16,
   "metadata": {},
   "outputs": [],
   "source": [
    "import warnings\n",
    "warnings.filterwarnings(\"ignore\")"
   ]
  },
  {
   "cell_type": "markdown",
   "metadata": {},
   "source": [
    "## Data Types"
   ]
  },
  {
   "cell_type": "markdown",
   "metadata": {},
   "source": [
    "Text Type (string): `str`  \n",
    "Numeric Types:      `int`, `float`, `complex`  \n",
    "Sequence Types:\t    `list`, `tuple`, `range`  \n",
    "Mapping Type:\t    `dict` - dictionary (used to store key:value pairs)  \n",
    "Logical:\t        `bool` - boolean  (True or False)   \n",
    "Binary Types:\t    `bytes`, `bytearray`, `memoryview`  "
   ]
  },
  {
   "cell_type": "markdown",
   "metadata": {},
   "source": [
    "Let us convert an integer to a string. We do this using the `str()` function. Recall, how in R, this same function call is designated for something completely different - inspecting the structure of the dataframe.\n",
    "\n",
    "We can also examine `floats` and `bools` as follows:"
   ]
  },
  {
   "cell_type": "code",
   "execution_count": 17,
   "metadata": {},
   "outputs": [
    {
     "name": "stdout",
     "output_type": "stream",
     "text": [
      "Integer: 2356\n",
      "Float: 2356.0\n",
      "String: 2356\n",
      "True\n",
      "False\n"
     ]
    }
   ],
   "source": [
    "# assign the variable to an int\n",
    "int_numb  = 2356\n",
    "print('Integer:', int_numb)\n",
    "\n",
    "# assign the variable to a float\n",
    "float_number = 2356.0\n",
    "print('Float:', float_number)\n",
    "\n",
    "# convert the variable to a string\n",
    "str_numb = str(int_numb)\n",
    "print('String:',str_numb)\n",
    "\n",
    "# convert variable from float to int\n",
    "int_number = int(float_number)\n",
    "\n",
    "# boolean\n",
    "bool1 = 2356 > 235\n",
    "bool2 = 2356 == 235\n",
    "print(bool1)\n",
    "print(bool2)"
   ]
  },
  {
   "cell_type": "markdown",
   "metadata": {},
   "source": [
    "## Data Structures \n",
    "\n",
    "**What is a variable?**\n",
    "A variable is a container for storing a data value, exhibited as a reference to \"to an object in memory which means that whenever a variable is assigned to an instance, it gets mapped to that instance. A variable in R can store a vector, a group of vectors or a combination of many R objects\" (GeeksforGeeks, 2020). \n",
    "\n",
    "There are 3 most important data structures in Python: vector, matrix, and dataframe.  \n",
    "\n",
    "**Vector**:  the most basic type of data structure within R; contains a series of values of the same data class. It is a \"sequence of data elements\" (Thakur, 2018). \n",
    "\n",
    "**Matrix**: a 2-dimensional version of a vector. Instead of only having a single row/list of data, we have rows and columns of data of the same data class.\n",
    "\n",
    "**Dataframe**: the most important data structure for data science. Think of dataframe as loads of vectors pasted together as columns. Columns in a dataframe can be of different data class, but values within the same column must be the same data class.\n",
    "\n"
   ]
  },
  {
   "cell_type": "markdown",
   "metadata": {},
   "source": [
    "## Creating Objects"
   ]
  },
  {
   "cell_type": "markdown",
   "metadata": {},
   "source": [
    "We can make a one-dimensional horizontal list as follows:"
   ]
  },
  {
   "cell_type": "code",
   "execution_count": 18,
   "metadata": {},
   "outputs": [
    {
     "data": {
      "text/plain": [
       "[0, 1, 2, 3]"
      ]
     },
     "execution_count": 18,
     "metadata": {},
     "output_type": "execute_result"
    }
   ],
   "source": [
    "list1 = [0, 1, 2, 3]\n",
    "list1"
   ]
  },
  {
   "cell_type": "markdown",
   "metadata": {},
   "source": [
    "or a one-dimensional vertical list as follows:"
   ]
  },
  {
   "cell_type": "code",
   "execution_count": 19,
   "metadata": {},
   "outputs": [
    {
     "data": {
      "text/plain": [
       "[[1], [2], [3], [4]]"
      ]
     },
     "execution_count": 19,
     "metadata": {},
     "output_type": "execute_result"
    }
   ],
   "source": [
    "list2 = [[1],\n",
    "         [2],\n",
    "         [3],\n",
    "         [4]]\n",
    "list2"
   ]
  },
  {
   "cell_type": "markdown",
   "metadata": {},
   "source": [
    "## Vectors and Their Operations\n",
    "Now, to vectorize these lists, we simply assign it to the `np.array()` function call:"
   ]
  },
  {
   "cell_type": "code",
   "execution_count": 20,
   "metadata": {},
   "outputs": [
    {
     "name": "stdout",
     "output_type": "stream",
     "text": [
      "[0 1 2 3]\n",
      "\n",
      "\n",
      "[[1]\n",
      " [2]\n",
      " [3]\n",
      " [4]]\n"
     ]
    }
   ],
   "source": [
    "vector1 = np.array(list1)\n",
    "print(vector1)\n",
    "print('\\n') # for printing an empty new line \n",
    "            # between outputs\n",
    "vector2 = np.array(list2)\n",
    "print(vector2)"
   ]
  },
  {
   "cell_type": "markdown",
   "metadata": {},
   "source": [
    "Running the following basic between vector arithmetic operations (addition, subtraction, and division, respectively) changes the resulting data structures from one-dimensional arrays to two-dimensional matrices. "
   ]
  },
  {
   "cell_type": "code",
   "execution_count": 21,
   "metadata": {},
   "outputs": [
    {
     "name": "stdout",
     "output_type": "stream",
     "text": [
      "Vector Addition:  \n",
      " [[1 2 3 4]\n",
      " [2 3 4 5]\n",
      " [3 4 5 6]\n",
      " [4 5 6 7]] \n",
      "\n",
      "Vector Subtraction: \n",
      " [[-1  0  1  2]\n",
      " [-2 -1  0  1]\n",
      " [-3 -2 -1  0]\n",
      " [-4 -3 -2 -1]] \n",
      "\n",
      "Vector Multiplication: \n",
      " [[ 0  1  2  3]\n",
      " [ 0  2  4  6]\n",
      " [ 0  3  6  9]\n",
      " [ 0  4  8 12]] \n",
      "\n",
      "Vector Division: \n",
      " [[0.         1.         2.         3.        ]\n",
      " [0.         0.5        1.         1.5       ]\n",
      " [0.         0.33333333 0.66666667 1.        ]\n",
      " [0.         0.25       0.5        0.75      ]]\n"
     ]
    }
   ],
   "source": [
    "# adding vector 1 and vector 2\n",
    "addition = vector1 + vector2\n",
    "\n",
    "# subtracting vector 1 and vector 2\n",
    "subtraction = vector1 - vector2\n",
    "\n",
    "# multiplying vector 1 and vector 2\n",
    "multiplication = vector1 * vector2\n",
    "\n",
    "# divifing vector 1 by vector 2\n",
    "division = vector1 / vector2\n",
    "\n",
    "# Now let's print the results of these operations\n",
    "print('Vector Addition: ', '\\n', addition, '\\n')\n",
    "print('Vector Subtraction:', '\\n', subtraction, '\\n')\n",
    "print('Vector Multiplication:', '\\n', multiplication, '\\n')\n",
    "print('Vector Division:', '\\n', division)"
   ]
  },
  {
   "cell_type": "markdown",
   "metadata": {},
   "source": [
    "Similarly, a vector of logical strings will contain"
   ]
  },
  {
   "cell_type": "code",
   "execution_count": 22,
   "metadata": {},
   "outputs": [
    {
     "data": {
      "text/plain": [
       "array([ True, False,  True, False,  True])"
      ]
     },
     "execution_count": 22,
     "metadata": {},
     "output_type": "execute_result"
    }
   ],
   "source": [
    "vector3 = np.array([True, False, True, False, True])\n",
    "vector3"
   ]
  },
  {
   "cell_type": "markdown",
   "metadata": {},
   "source": [
    "Whereas in R, we use the `length()` function to measure the length of an object (i.e., vector, variable, or dataframe), we apply the `len()` function in `Python` to determine the number of members inside this object."
   ]
  },
  {
   "cell_type": "code",
   "execution_count": 23,
   "metadata": {},
   "outputs": [
    {
     "data": {
      "text/plain": [
       "5"
      ]
     },
     "execution_count": 23,
     "metadata": {},
     "output_type": "execute_result"
    }
   ],
   "source": [
    "len(vector3)"
   ]
  },
  {
   "cell_type": "markdown",
   "metadata": {},
   "source": [
    "Let us say for example, that we want to access the third element of `vector1` from what we defined above. In this case, the syntax is the same as in R. We can do so as follows:"
   ]
  },
  {
   "cell_type": "code",
   "execution_count": 25,
   "metadata": {},
   "outputs": [
    {
     "name": "stdout",
     "output_type": "stream",
     "text": [
      "[4, 5, 6, 7]\n"
     ]
    },
    {
     "data": {
      "text/plain": [
       "[5, 6]"
      ]
     },
     "execution_count": 25,
     "metadata": {},
     "output_type": "execute_result"
    }
   ],
   "source": [
    "vector1 = [4,5,6,7]\n",
    "print(vector1)\n",
    "\n",
    "vector1[3]\n",
    "vector1[1:3]\n"
   ]
  },
  {
   "cell_type": "markdown",
   "metadata": {},
   "source": [
    "Let us now say we want to access the first, fifth, and ninth elements of this dataframe. To this end, we do the following:"
   ]
  },
  {
   "cell_type": "code",
   "execution_count": 26,
   "metadata": {},
   "outputs": [
    {
     "data": {
      "text/plain": [
       "(3, 20, 35)"
      ]
     },
     "execution_count": 26,
     "metadata": {},
     "output_type": "execute_result"
    }
   ],
   "source": [
    "vector4 = np.array([1,3,5,7,9,20,2,8,10,35,76,89,207])\n",
    "vector4_index = vector4[1], vector4[5], vector4[9]\n",
    "vector4_index\n"
   ]
  },
  {
   "cell_type": "markdown",
   "metadata": {},
   "source": [
    "What if we wish to access the third element on the first row of this matrix?"
   ]
  },
  {
   "cell_type": "code",
   "execution_count": 27,
   "metadata": {},
   "outputs": [
    {
     "name": "stdout",
     "output_type": "stream",
     "text": [
      "[[ 1  2  3  4  5]\n",
      " [ 6  7  8  9 10]]\n",
      "\n",
      " 3rd element on 1st row: 3\n"
     ]
    }
   ],
   "source": [
    "# create (define) new matrix\n",
    "matrix1 = np.array([[1,2,3,4,5], [6,7,8,9,10]])\n",
    "print(matrix1)\n",
    "\n",
    "print('\\n','3rd element on 1st row:', matrix1[0,2])\n"
   ]
  },
  {
   "cell_type": "markdown",
   "metadata": {},
   "source": [
    "## Counting Numbers and Accessing Elements in Python\n",
    "\n",
    "Whereas it would make sense to start counting items in an array with the number `1` like we do in R, this is not true in Python. We `ALWAYS` start counting items with the number `0` as the first number of any given array in Python."
   ]
  },
  {
   "cell_type": "markdown",
   "metadata": {},
   "source": [
    "What if we want to access certain elements within the dataframe? For example:"
   ]
  },
  {
   "cell_type": "code",
   "execution_count": 28,
   "metadata": {
    "scrolled": true
   },
   "outputs": [
    {
     "name": "stdout",
     "output_type": "stream",
     "text": [
      "[4, 5, 6, 7]\n",
      "4\n",
      "[4, 5, 6, 7]\n",
      "[4, 5, 6]\n"
     ]
    }
   ],
   "source": [
    "# find the length of vector 1\n",
    "print(vector1)\n",
    "print(len(vector1))\n",
    "\n",
    "# get all elements\n",
    "print(vector1[0:4])\n",
    "\n",
    "# get all elements except last one\n",
    "print(vector1[0:3])"
   ]
  },
  {
   "cell_type": "code",
   "execution_count": null,
   "metadata": {},
   "outputs": [],
   "source": []
  }
 ],
 "metadata": {
  "kernelspec": {
   "display_name": "Python 3 (ipykernel)",
   "language": "python",
   "name": "python3"
  },
  "language_info": {
   "codemirror_mode": {
    "name": "ipython",
    "version": 3
   },
   "file_extension": ".py",
   "mimetype": "text/x-python",
   "name": "python",
   "nbconvert_exporter": "python",
   "pygments_lexer": "ipython3",
   "version": "3.9.7"
  }
 },
 "nbformat": 4,
 "nbformat_minor": 4
}
